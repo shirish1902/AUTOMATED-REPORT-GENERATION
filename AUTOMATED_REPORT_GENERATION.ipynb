{
  "nbformat": 4,
  "nbformat_minor": 0,
  "metadata": {
    "colab": {
      "provenance": []
    },
    "kernelspec": {
      "name": "python3",
      "display_name": "Python 3"
    },
    "language_info": {
      "name": "python"
    }
  },
  "cells": [
    {
      "cell_type": "code",
      "source": [
        "!pip install fpdf"
      ],
      "metadata": {
        "colab": {
          "base_uri": "https://localhost:8080/"
        },
        "id": "oGwtEOH_T1qo",
        "outputId": "9fff0f32-82ca-49cf-f0da-4b4f3ac36e95"
      },
      "execution_count": 6,
      "outputs": [
        {
          "output_type": "stream",
          "name": "stdout",
          "text": [
            "Requirement already satisfied: fpdf in /usr/local/lib/python3.11/dist-packages (1.7.2)\n"
          ]
        }
      ]
    },
    {
      "cell_type": "code",
      "source": [
        "!pip install openpyxl"
      ],
      "metadata": {
        "colab": {
          "base_uri": "https://localhost:8080/"
        },
        "id": "X3XiNo5OV7j-",
        "outputId": "a395c2ce-24f6-4046-841d-13cbd5f4f34b"
      },
      "execution_count": 7,
      "outputs": [
        {
          "output_type": "stream",
          "name": "stdout",
          "text": [
            "Requirement already satisfied: openpyxl in /usr/local/lib/python3.11/dist-packages (3.1.5)\n",
            "Requirement already satisfied: et-xmlfile in /usr/local/lib/python3.11/dist-packages (from openpyxl) (2.0.0)\n"
          ]
        }
      ]
    },
    {
      "cell_type": "code",
      "source": [
        "import pandas as pd\n",
        "from fpdf import FPDF\n",
        "import openpyxl\n",
        "\n",
        "\n",
        "def analyze_data(file_path):\n",
        "    df = pd.read_excel(file_path)\n",
        "    summary = df.describe()\n",
        "    return df, summary\n",
        "\n",
        "\n",
        "def generate_pdf_report(data_summary, output_file=\"report.pdf\"):\n",
        "    pdf = FPDF()\n",
        "    pdf.set_auto_page_break(auto=True, margin=15)\n",
        "    pdf.add_page()\n",
        "    pdf.set_font(\"Arial\", \"B\", 16)\n",
        "    pdf.cell(200, 10, \"Automated Data Analysis Report\", ln=True, align=\"C\")\n",
        "    pdf.ln(10)\n",
        "\n",
        "    pdf.set_font(\"Arial\", \"B\", 12)\n",
        "    pdf.cell(200, 10, \"Data Summary:\", ln=True)\n",
        "    pdf.ln(5)\n",
        "\n",
        "    pdf.set_font(\"Arial\", size=10)\n",
        "    for col in data_summary.columns:\n",
        "        pdf.cell(200, 10, f\"Column: {col}\", ln=True, align=\"L\")\n",
        "        for index, value in data_summary[col].items():\n",
        "            pdf.cell(200, 10, f\"{index}: {value:.2f}\", ln=True, align=\"L\")\n",
        "        pdf.ln(5)\n",
        "\n",
        "    pdf.output(output_file)\n",
        "    print(f\"Report saved as {output_file}\")\n",
        "\n",
        "def main():\n",
        "    input_file = \"/content/deduction_import_raw (1).xlsx\"\n",
        "    df, summary = analyze_data(input_file)\n",
        "    generate_pdf_report(summary)\n",
        "\n",
        "if __name__ == \"__main__\":\n",
        "    main()"
      ],
      "metadata": {
        "colab": {
          "base_uri": "https://localhost:8080/"
        },
        "id": "r8A7EhYjV8du",
        "outputId": "01b6d5e3-67c3-44d9-ecec-9ccea2506777"
      },
      "execution_count": 9,
      "outputs": [
        {
          "output_type": "stream",
          "name": "stdout",
          "text": [
            "Report saved as report.pdf\n"
          ]
        }
      ]
    },
    {
      "cell_type": "code",
      "source": [],
      "metadata": {
        "id": "4-Tde8aygX8m"
      },
      "execution_count": null,
      "outputs": []
    }
  ]
}